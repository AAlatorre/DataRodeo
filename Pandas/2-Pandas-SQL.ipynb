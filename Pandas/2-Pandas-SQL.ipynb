{
 "cells": [
  {
   "cell_type": "markdown",
   "metadata": {},
   "source": [
    "# Pandas and SQL\n",
    "Structured Query Language, or **SQL**, is the language of databases. Though \"SQL\" may seem new to you, you've actually used it in your GIS work, specifically in selecting records by attribute values. SQL, however, is capable of much more than just selecting records; SQL is used to create, read, relate (i.e. join), update, delete records stored in database tables. \n",
    "\n",
    "In this exercise we use Pandas to mimic many SQL functions, showing that we don't need to learn daunting database management systems like Oracle, Microsoft SQL Server, PostgreSQL, or even MS Access, to run some of the everyday database functions you might want to run. Instead, we can import data as a dataframe and use some Pandas functions to get what you need. \n",
    "\n",
    "Here we explore some useful data query and transformation techniques are applied to marine species observations data extracted from OBIS/SeaMap. These data are stored in the data folder as `Seamap400.csv`. \n",
    "\n",
    "→ *You may want to examine this file in Excel to familiarize yourself with the data first.*"
   ]
  },
  {
   "cell_type": "code",
   "execution_count": 1,
   "metadata": {},
   "outputs": [],
   "source": [
    "#Import the modules\n",
    "import pandas as pd\n",
    "import numpy as np #Well need NumPy for some of it's data types..."
   ]
  },
  {
   "cell_type": "markdown",
   "metadata": {},
   "source": [
    "## Loading the csv data into a Pandas dataframe\n",
    "We've loaded CSV data into a Pandas dataframe in previous exercises. The code block below demonstrates how the `read_csv` function easily does this. "
   ]
  },
  {
   "cell_type": "code",
   "execution_count": 2,
   "metadata": {},
   "outputs": [
    {
     "data": {
      "text/html": [
       "<div>\n",
       "<style scoped>\n",
       "    .dataframe tbody tr th:only-of-type {\n",
       "        vertical-align: middle;\n",
       "    }\n",
       "\n",
       "    .dataframe tbody tr th {\n",
       "        vertical-align: top;\n",
       "    }\n",
       "\n",
       "    .dataframe thead th {\n",
       "        text-align: right;\n",
       "    }\n",
       "</style>\n",
       "<table border=\"1\" class=\"dataframe\">\n",
       "  <thead>\n",
       "    <tr style=\"text-align: right;\">\n",
       "      <th></th>\n",
       "      <th>ID</th>\n",
       "      <th>datasetid</th>\n",
       "      <th>rowid</th>\n",
       "      <th>last_mod</th>\n",
       "      <th>latitude</th>\n",
       "      <th>longitude</th>\n",
       "      <th>sp_code</th>\n",
       "      <th>sp_tsn</th>\n",
       "      <th>sp_count</th>\n",
       "      <th>obs_date</th>\n",
       "      <th>scientific</th>\n",
       "      <th>sp_common</th>\n",
       "      <th>sp_class</th>\n",
       "      <th>provider</th>\n",
       "    </tr>\n",
       "  </thead>\n",
       "  <tbody>\n",
       "    <tr>\n",
       "      <th>0</th>\n",
       "      <td>1</td>\n",
       "      <td>400</td>\n",
       "      <td>1114</td>\n",
       "      <td>6/15/2007 10:06:59</td>\n",
       "      <td>37.27</td>\n",
       "      <td>-75.20</td>\n",
       "      <td>BALA</td>\n",
       "      <td>180522</td>\n",
       "      <td>2</td>\n",
       "      <td>3/13/2007 14:11:00</td>\n",
       "      <td>Balaenopteridae</td>\n",
       "      <td>rorquals</td>\n",
       "      <td>Mammalia</td>\n",
       "      <td>University of North Carolina at Wilmington</td>\n",
       "    </tr>\n",
       "    <tr>\n",
       "      <th>1</th>\n",
       "      <td>2</td>\n",
       "      <td>400</td>\n",
       "      <td>1006</td>\n",
       "      <td>6/15/2007 10:06:59</td>\n",
       "      <td>36.95</td>\n",
       "      <td>-75.87</td>\n",
       "      <td>Bph</td>\n",
       "      <td>180527</td>\n",
       "      <td>2</td>\n",
       "      <td>2/28/2007 10:52:00</td>\n",
       "      <td>Balaenoptera physalus</td>\n",
       "      <td>Fin Whale</td>\n",
       "      <td>Mammalia</td>\n",
       "      <td>University of North Carolina at Wilmington</td>\n",
       "    </tr>\n",
       "  </tbody>\n",
       "</table>\n",
       "</div>"
      ],
      "text/plain": [
       "   ID  datasetid  rowid            last_mod  latitude  longitude sp_code  \\\n",
       "0   1        400   1114  6/15/2007 10:06:59     37.27     -75.20    BALA   \n",
       "1   2        400   1006  6/15/2007 10:06:59     36.95     -75.87     Bph   \n",
       "\n",
       "   sp_tsn  sp_count            obs_date             scientific  sp_common  \\\n",
       "0  180522         2  3/13/2007 14:11:00        Balaenopteridae   rorquals   \n",
       "1  180527         2  2/28/2007 10:52:00  Balaenoptera physalus  Fin Whale   \n",
       "\n",
       "   sp_class                                    provider  \n",
       "0  Mammalia  University of North Carolina at Wilmington  \n",
       "1  Mammalia  University of North Carolina at Wilmington  "
      ]
     },
     "execution_count": 2,
     "metadata": {},
     "output_type": "execute_result"
    }
   ],
   "source": [
    "#Import the data into a dataframe called \"dfSeamap\"\n",
    "dfSeamap = pd.read_csv('Seamap400.csv')\n",
    "#Show the first 2 records in the result\n",
    "dfSeamap.head(2)"
   ]
  },
  {
   "cell_type": "markdown",
   "metadata": {},
   "source": [
    "The result *looks* good, and indeed we can do much with this dataframe. BUT, there are some \"gotchas\" that we can fix:\n",
    "* First, Pandas assigns it's own index, when we might want to keep the ID field as the index values.\n",
    "* The `dataset` and `rowid` fields, are actually nominal values, not actual numbers, and we should import these as strings, not numbers (in case they have a leading zero, for example).\n",
    "* The `obs_date` field is imported as a string, but we can convert this as a date object, which will allow for selection via time slices.\n"
   ]
  },
  {
   "cell_type": "markdown",
   "metadata": {},
   "source": [
    "So... to fix this, we can specify a few extra parameters when importing the data. Below is the `read_csv()` function applies as above, but with three additional parameters:\n",
    "* The `index_col` specifies which column will be our dataFrame's **index**. \n",
    "* `parse_dates` indicates that the `last_mod` and `obs_date` columns are a **date fields**, not strings, which enables us to to time-based queries. \n",
    "* And finally, the `dtype` functions allows us to override the defaut data type assignments. Here, we pass a dictionary consisting of column names (keys) and data types (values) to indicate which columns:data type pairs we want to specifiy. "
   ]
  },
  {
   "cell_type": "code",
   "execution_count": 3,
   "metadata": {},
   "outputs": [
    {
     "data": {
      "text/html": [
       "<div>\n",
       "<style scoped>\n",
       "    .dataframe tbody tr th:only-of-type {\n",
       "        vertical-align: middle;\n",
       "    }\n",
       "\n",
       "    .dataframe tbody tr th {\n",
       "        vertical-align: top;\n",
       "    }\n",
       "\n",
       "    .dataframe thead th {\n",
       "        text-align: right;\n",
       "    }\n",
       "</style>\n",
       "<table border=\"1\" class=\"dataframe\">\n",
       "  <thead>\n",
       "    <tr style=\"text-align: right;\">\n",
       "      <th></th>\n",
       "      <th>datasetid</th>\n",
       "      <th>rowid</th>\n",
       "      <th>last_mod</th>\n",
       "      <th>latitude</th>\n",
       "      <th>longitude</th>\n",
       "      <th>sp_code</th>\n",
       "      <th>sp_tsn</th>\n",
       "      <th>sp_count</th>\n",
       "      <th>obs_date</th>\n",
       "      <th>scientific</th>\n",
       "      <th>sp_common</th>\n",
       "      <th>sp_class</th>\n",
       "      <th>provider</th>\n",
       "    </tr>\n",
       "    <tr>\n",
       "      <th>ID</th>\n",
       "      <th></th>\n",
       "      <th></th>\n",
       "      <th></th>\n",
       "      <th></th>\n",
       "      <th></th>\n",
       "      <th></th>\n",
       "      <th></th>\n",
       "      <th></th>\n",
       "      <th></th>\n",
       "      <th></th>\n",
       "      <th></th>\n",
       "      <th></th>\n",
       "      <th></th>\n",
       "    </tr>\n",
       "  </thead>\n",
       "  <tbody>\n",
       "    <tr>\n",
       "      <th>1</th>\n",
       "      <td>400</td>\n",
       "      <td>1114</td>\n",
       "      <td>2007-06-15 10:06:59</td>\n",
       "      <td>37.27</td>\n",
       "      <td>-75.20</td>\n",
       "      <td>BALA</td>\n",
       "      <td>180522</td>\n",
       "      <td>2</td>\n",
       "      <td>2007-03-13 14:11:00</td>\n",
       "      <td>Balaenopteridae</td>\n",
       "      <td>rorquals</td>\n",
       "      <td>Mammalia</td>\n",
       "      <td>University of North Carolina at Wilmington</td>\n",
       "    </tr>\n",
       "    <tr>\n",
       "      <th>2</th>\n",
       "      <td>400</td>\n",
       "      <td>1006</td>\n",
       "      <td>2007-06-15 10:06:59</td>\n",
       "      <td>36.95</td>\n",
       "      <td>-75.87</td>\n",
       "      <td>Bph</td>\n",
       "      <td>180527</td>\n",
       "      <td>2</td>\n",
       "      <td>2007-02-28 10:52:00</td>\n",
       "      <td>Balaenoptera physalus</td>\n",
       "      <td>Fin Whale</td>\n",
       "      <td>Mammalia</td>\n",
       "      <td>University of North Carolina at Wilmington</td>\n",
       "    </tr>\n",
       "  </tbody>\n",
       "</table>\n",
       "</div>"
      ],
      "text/plain": [
       "   datasetid rowid            last_mod  latitude  longitude sp_code  sp_tsn  \\\n",
       "ID                                                                            \n",
       "1        400  1114 2007-06-15 10:06:59     37.27     -75.20    BALA  180522   \n",
       "2        400  1006 2007-06-15 10:06:59     36.95     -75.87     Bph  180527   \n",
       "\n",
       "    sp_count            obs_date             scientific  sp_common  sp_class  \\\n",
       "ID                                                                             \n",
       "1          2 2007-03-13 14:11:00        Balaenopteridae   rorquals  Mammalia   \n",
       "2          2 2007-02-28 10:52:00  Balaenoptera physalus  Fin Whale  Mammalia   \n",
       "\n",
       "                                      provider  \n",
       "ID                                              \n",
       "1   University of North Carolina at Wilmington  \n",
       "2   University of North Carolina at Wilmington  "
      ]
     },
     "execution_count": 3,
     "metadata": {},
     "output_type": "execute_result"
    }
   ],
   "source": [
    "#Import the Seamap400.csv file to a DataFrame\n",
    "dfSeamap = pd.read_csv('Seamap400.csv', \n",
    "                       index_col = 'ID',\n",
    "                       parse_dates=['last_mod','obs_date'],\n",
    "                       dtype={'datasetid':'str',\n",
    "                              'rowid':'str'\n",
    "                             }\n",
    "                      )\n",
    "dfSeamap.head(2)"
   ]
  },
  {
   "cell_type": "markdown",
   "metadata": {},
   "source": [
    "Other than the ID now being used as the index the result looks the same, but if you inspect the data types, you'll see we got what we wanted."
   ]
  },
  {
   "cell_type": "code",
   "execution_count": 4,
   "metadata": {},
   "outputs": [
    {
     "data": {
      "text/plain": [
       "datasetid             object\n",
       "rowid                 object\n",
       "last_mod      datetime64[ns]\n",
       "latitude             float64\n",
       "longitude            float64\n",
       "sp_code               object\n",
       "sp_tsn                 int64\n",
       "sp_count               int64\n",
       "obs_date      datetime64[ns]\n",
       "scientific            object\n",
       "sp_common             object\n",
       "sp_class              object\n",
       "provider              object\n",
       "dtype: object"
      ]
     },
     "execution_count": 4,
     "metadata": {},
     "output_type": "execute_result"
    }
   ],
   "source": [
    "#Check the data types of the import\n",
    "dfSeamap.dtypes"
   ]
  },
  {
   "cell_type": "markdown",
   "metadata": {},
   "source": [
    "## Exploring our dataFrame\n",
    "Now, let's examine how many unique species there are. This is analogous to the `SELECT DISTINCT` SQL operation."
   ]
  },
  {
   "cell_type": "code",
   "execution_count": 5,
   "metadata": {},
   "outputs": [
    {
     "data": {
      "text/plain": [
       "array(['rorquals', 'Fin Whale', 'Loggerhead', 'cartilaginous fishes',\n",
       "       'Basking Shark', 'Common Dolphin', 'dolphins',\n",
       "       'Northern Right Whale', 'Short-finned Pilot Whale',\n",
       "       'Ocean Sunfish', 'Atlantic Ridley', 'Atlantic Manta',\n",
       "       'Humpback Whale', 'cow-nose rays', 'Bottlenose Dolphin',\n",
       "       'Sea Turtles'], dtype=object)"
      ]
     },
     "execution_count": 5,
     "metadata": {},
     "output_type": "execute_result"
    }
   ],
   "source": [
    "dfSeamap.sp_common.unique()"
   ]
  },
  {
   "cell_type": "markdown",
   "metadata": {},
   "source": [
    "## Selecting <u>columns</u> of data from a dataFrame\n",
    "Selecting columns is analogous to the SQL `SELECT ... FROM` clause, but the syntax in Pandas is a bit different."
   ]
  },
  {
   "cell_type": "markdown",
   "metadata": {},
   "source": [
    "#### ♦ Selecting data from <u>a single column</u> in the dataframe\n",
    "Selecting a single column is easy as specifying the column name, either between brackets with the field name in quotes, or using the dot notation. (*The former is preferred, in case your field name is the the same as another property or method of a dataFrame.*)\n",
    "\n",
    "When only one column is selected, the object returned is actually not a dataFrame, but a pandas **series** object, which is quite similar to a one-dimensional NumPy array. (However, in Pandas, series are limited to one dimension...)"
   ]
  },
  {
   "cell_type": "code",
   "execution_count": 17,
   "metadata": {},
   "outputs": [
    {
     "data": {
      "text/plain": [
       "pandas.core.series.Series"
      ]
     },
     "execution_count": 17,
     "metadata": {},
     "output_type": "execute_result"
    }
   ],
   "source": [
    "#Select just the sp_common field into a new view\n",
    "commonNames = dfSeamap['sp_common']\n",
    "type(commonNames)"
   ]
  },
  {
   "cell_type": "code",
   "execution_count": 7,
   "metadata": {},
   "outputs": [
    {
     "data": {
      "text/plain": [
       "pandas.core.series.Series"
      ]
     },
     "execution_count": 7,
     "metadata": {},
     "output_type": "execute_result"
    }
   ],
   "source": [
    "#Using \"dot notation\" (<dataframe>.<field name>) also works\n",
    "commonNames = dfSeamap.sp_common\n",
    "type(commonNames)"
   ]
  },
  {
   "cell_type": "code",
   "execution_count": 8,
   "metadata": {},
   "outputs": [
    {
     "data": {
      "text/plain": [
       "ID\n",
       "1     rorquals\n",
       "2    Fin Whale\n",
       "3    Fin Whale\n",
       "4    Fin Whale\n",
       "5    Fin Whale\n",
       "6    Fin Whale\n",
       "7    Fin Whale\n",
       "8    Fin Whale\n",
       "Name: sp_common, dtype: object"
      ]
     },
     "execution_count": 8,
     "metadata": {},
     "output_type": "execute_result"
    }
   ],
   "source": [
    "#As the object returned is a series, we can get records from its index\n",
    "commonNames[:8] #Returns the first 8 records"
   ]
  },
  {
   "cell_type": "code",
   "execution_count": null,
   "metadata": {},
   "outputs": [],
   "source": [
    "#What code would you use to get the last 8 records? (Replace the ???)\n",
    "commonNames[???]"
   ]
  },
  {
   "cell_type": "markdown",
   "metadata": {},
   "source": [
    "#### ♦ Selecting data  from <u>multiple</u> columns\n",
    "Selecting multiple columns can be done by including a list of the column names. *Note the double set of brackets: the outer set is the syntax of the dataFrame object, and the inner set denotes the list of field names we want.*\n",
    "\n",
    "Here, the object returned resembles a dataFrame, not a series (since Pandas' series can only be one-dimension). However, in actuality, this is simply a **view** of the original dataFrame, not a new object - much like query views in SQL..."
   ]
  },
  {
   "cell_type": "code",
   "execution_count": 9,
   "metadata": {},
   "outputs": [
    {
     "data": {
      "text/html": [
       "<div>\n",
       "<style scoped>\n",
       "    .dataframe tbody tr th:only-of-type {\n",
       "        vertical-align: middle;\n",
       "    }\n",
       "\n",
       "    .dataframe tbody tr th {\n",
       "        vertical-align: top;\n",
       "    }\n",
       "\n",
       "    .dataframe thead th {\n",
       "        text-align: right;\n",
       "    }\n",
       "</style>\n",
       "<table border=\"1\" class=\"dataframe\">\n",
       "  <thead>\n",
       "    <tr style=\"text-align: right;\">\n",
       "      <th></th>\n",
       "      <th>sp_common</th>\n",
       "      <th>sp_class</th>\n",
       "    </tr>\n",
       "    <tr>\n",
       "      <th>ID</th>\n",
       "      <th></th>\n",
       "      <th></th>\n",
       "    </tr>\n",
       "  </thead>\n",
       "  <tbody>\n",
       "    <tr>\n",
       "      <th>1</th>\n",
       "      <td>rorquals</td>\n",
       "      <td>Mammalia</td>\n",
       "    </tr>\n",
       "    <tr>\n",
       "      <th>2</th>\n",
       "      <td>Fin Whale</td>\n",
       "      <td>Mammalia</td>\n",
       "    </tr>\n",
       "    <tr>\n",
       "      <th>3</th>\n",
       "      <td>Fin Whale</td>\n",
       "      <td>Mammalia</td>\n",
       "    </tr>\n",
       "    <tr>\n",
       "      <th>4</th>\n",
       "      <td>Fin Whale</td>\n",
       "      <td>Mammalia</td>\n",
       "    </tr>\n",
       "    <tr>\n",
       "      <th>5</th>\n",
       "      <td>Fin Whale</td>\n",
       "      <td>Mammalia</td>\n",
       "    </tr>\n",
       "  </tbody>\n",
       "</table>\n",
       "</div>"
      ],
      "text/plain": [
       "    sp_common  sp_class\n",
       "ID                     \n",
       "1    rorquals  Mammalia\n",
       "2   Fin Whale  Mammalia\n",
       "3   Fin Whale  Mammalia\n",
       "4   Fin Whale  Mammalia\n",
       "5   Fin Whale  Mammalia"
      ]
     },
     "execution_count": 9,
     "metadata": {},
     "output_type": "execute_result"
    }
   ],
   "source": [
    "#Select the 'sp_common' and 'sp_class' columns into a new view\n",
    "dfSelect = dfSeamap[['sp_common','sp_class']]\n",
    "dfSelect.head()"
   ]
  },
  {
   "cell_type": "code",
   "execution_count": 10,
   "metadata": {},
   "outputs": [
    {
     "data": {
      "text/html": [
       "<div>\n",
       "<style scoped>\n",
       "    .dataframe tbody tr th:only-of-type {\n",
       "        vertical-align: middle;\n",
       "    }\n",
       "\n",
       "    .dataframe tbody tr th {\n",
       "        vertical-align: top;\n",
       "    }\n",
       "\n",
       "    .dataframe thead th {\n",
       "        text-align: right;\n",
       "    }\n",
       "</style>\n",
       "<table border=\"1\" class=\"dataframe\">\n",
       "  <thead>\n",
       "    <tr style=\"text-align: right;\">\n",
       "      <th></th>\n",
       "      <th>sp_common</th>\n",
       "      <th>latitude</th>\n",
       "      <th>longitude</th>\n",
       "    </tr>\n",
       "    <tr>\n",
       "      <th>ID</th>\n",
       "      <th></th>\n",
       "      <th></th>\n",
       "      <th></th>\n",
       "    </tr>\n",
       "  </thead>\n",
       "  <tbody>\n",
       "    <tr>\n",
       "      <th>1</th>\n",
       "      <td>rorquals</td>\n",
       "      <td>37.27</td>\n",
       "      <td>-75.20</td>\n",
       "    </tr>\n",
       "    <tr>\n",
       "      <th>2</th>\n",
       "      <td>Fin Whale</td>\n",
       "      <td>36.95</td>\n",
       "      <td>-75.87</td>\n",
       "    </tr>\n",
       "    <tr>\n",
       "      <th>3</th>\n",
       "      <td>Fin Whale</td>\n",
       "      <td>36.96</td>\n",
       "      <td>-75.43</td>\n",
       "    </tr>\n",
       "    <tr>\n",
       "      <th>4</th>\n",
       "      <td>Fin Whale</td>\n",
       "      <td>36.95</td>\n",
       "      <td>-75.49</td>\n",
       "    </tr>\n",
       "    <tr>\n",
       "      <th>5</th>\n",
       "      <td>Fin Whale</td>\n",
       "      <td>36.70</td>\n",
       "      <td>-75.55</td>\n",
       "    </tr>\n",
       "  </tbody>\n",
       "</table>\n",
       "</div>"
      ],
      "text/plain": [
       "    sp_common  latitude  longitude\n",
       "ID                                \n",
       "1    rorquals     37.27     -75.20\n",
       "2   Fin Whale     36.95     -75.87\n",
       "3   Fin Whale     36.96     -75.43\n",
       "4   Fin Whale     36.95     -75.49\n",
       "5   Fin Whale     36.70     -75.55"
      ]
     },
     "execution_count": 10,
     "metadata": {},
     "output_type": "execute_result"
    }
   ],
   "source": [
    "##What code would create a table of just the species common name and the latitude and longitude columns?\n",
    "dfSelect2 = dfSeamap[[???]]\n",
    "dfSelect2.head()"
   ]
  },
  {
   "cell_type": "markdown",
   "metadata": {},
   "source": [
    "## Selecting <u>rows</u> in a dataFrame\n",
    "Selecting rows, analogous to the `select...where` statement in SQL, can be done by creating **boolean masks** of the criteria you want and then applying those masks. This can be done explicitily as two steps, or more commonly in a single, compount step. "
   ]
  },
  {
   "cell_type": "markdown",
   "metadata": {},
   "source": [
    "Before making our selection, let's examine how we can easily extract a list of valid options using the `unique` property."
   ]
  },
  {
   "cell_type": "code",
   "execution_count": 11,
   "metadata": {},
   "outputs": [
    {
     "data": {
      "text/plain": [
       "array(['Mammalia', 'Reptilia', 'Chondrichthyes', 'Actinopterygii'],\n",
       "      dtype=object)"
      ]
     },
     "execution_count": 11,
     "metadata": {},
     "output_type": "execute_result"
    }
   ],
   "source": [
    "#List the unique values in the 'sp_class' field.\n",
    "dfSeamap['sp_class'].unique()"
   ]
  },
  {
   "cell_type": "code",
   "execution_count": 12,
   "metadata": {},
   "outputs": [
    {
     "data": {
      "text/plain": [
       "267"
      ]
     },
     "execution_count": 12,
     "metadata": {},
     "output_type": "execute_result"
    }
   ],
   "source": [
    "#Display just the *number* of unique latitude values\n",
    "dfSeamap['latitude'].nunique()"
   ]
  },
  {
   "cell_type": "markdown",
   "metadata": {},
   "source": [
    "#### Selecting rows in two steps:"
   ]
  },
  {
   "cell_type": "code",
   "execution_count": 13,
   "metadata": {},
   "outputs": [
    {
     "data": {
      "text/plain": [
       "ID\n",
       "2151     True\n",
       "2152     True\n",
       "2153     True\n",
       "2154    False\n",
       "2155    False\n",
       "2156    False\n",
       "Name: sp_class, dtype: bool"
      ]
     },
     "execution_count": 13,
     "metadata": {},
     "output_type": "execute_result"
    }
   ],
   "source": [
    "#Step 1: Create the boolean mask\n",
    "theMask = dfSeamap['sp_class'] == 'Mammalia'\n",
    "theMask[2150:2156] #Show a selection of records, to display values"
   ]
  },
  {
   "cell_type": "code",
   "execution_count": 14,
   "metadata": {},
   "outputs": [
    {
     "data": {
      "text/html": [
       "<div>\n",
       "<style scoped>\n",
       "    .dataframe tbody tr th:only-of-type {\n",
       "        vertical-align: middle;\n",
       "    }\n",
       "\n",
       "    .dataframe tbody tr th {\n",
       "        vertical-align: top;\n",
       "    }\n",
       "\n",
       "    .dataframe thead th {\n",
       "        text-align: right;\n",
       "    }\n",
       "</style>\n",
       "<table border=\"1\" class=\"dataframe\">\n",
       "  <thead>\n",
       "    <tr style=\"text-align: right;\">\n",
       "      <th></th>\n",
       "      <th>datasetid</th>\n",
       "      <th>rowid</th>\n",
       "      <th>last_mod</th>\n",
       "      <th>latitude</th>\n",
       "      <th>longitude</th>\n",
       "      <th>sp_code</th>\n",
       "      <th>sp_tsn</th>\n",
       "      <th>sp_count</th>\n",
       "      <th>obs_date</th>\n",
       "      <th>scientific</th>\n",
       "      <th>sp_common</th>\n",
       "      <th>sp_class</th>\n",
       "      <th>provider</th>\n",
       "    </tr>\n",
       "    <tr>\n",
       "      <th>ID</th>\n",
       "      <th></th>\n",
       "      <th></th>\n",
       "      <th></th>\n",
       "      <th></th>\n",
       "      <th></th>\n",
       "      <th></th>\n",
       "      <th></th>\n",
       "      <th></th>\n",
       "      <th></th>\n",
       "      <th></th>\n",
       "      <th></th>\n",
       "      <th></th>\n",
       "      <th></th>\n",
       "    </tr>\n",
       "  </thead>\n",
       "  <tbody>\n",
       "    <tr>\n",
       "      <th>2059</th>\n",
       "      <td>400</td>\n",
       "      <td>1972</td>\n",
       "      <td>2007-06-15 10:06:59</td>\n",
       "      <td>35.27</td>\n",
       "      <td>-75.35</td>\n",
       "      <td>Ttr</td>\n",
       "      <td>180426</td>\n",
       "      <td>5</td>\n",
       "      <td>2007-04-24 11:28:00</td>\n",
       "      <td>Tursiops truncatus</td>\n",
       "      <td>Bottlenose Dolphin</td>\n",
       "      <td>Mammalia</td>\n",
       "      <td>University of North Carolina at Wilmington</td>\n",
       "    </tr>\n",
       "    <tr>\n",
       "      <th>1836</th>\n",
       "      <td>400</td>\n",
       "      <td>1443</td>\n",
       "      <td>2007-06-15 10:06:59</td>\n",
       "      <td>35.53</td>\n",
       "      <td>-75.17</td>\n",
       "      <td>Ttr</td>\n",
       "      <td>180426</td>\n",
       "      <td>1</td>\n",
       "      <td>2007-03-22 14:13:00</td>\n",
       "      <td>Tursiops truncatus</td>\n",
       "      <td>Bottlenose Dolphin</td>\n",
       "      <td>Mammalia</td>\n",
       "      <td>University of North Carolina at Wilmington</td>\n",
       "    </tr>\n",
       "    <tr>\n",
       "      <th>2013</th>\n",
       "      <td>400</td>\n",
       "      <td>1890</td>\n",
       "      <td>2007-06-15 10:06:59</td>\n",
       "      <td>35.20</td>\n",
       "      <td>-75.54</td>\n",
       "      <td>Ttr</td>\n",
       "      <td>180426</td>\n",
       "      <td>1</td>\n",
       "      <td>2007-04-23 09:32:00</td>\n",
       "      <td>Tursiops truncatus</td>\n",
       "      <td>Bottlenose Dolphin</td>\n",
       "      <td>Mammalia</td>\n",
       "      <td>University of North Carolina at Wilmington</td>\n",
       "    </tr>\n",
       "    <tr>\n",
       "      <th>2</th>\n",
       "      <td>400</td>\n",
       "      <td>1006</td>\n",
       "      <td>2007-06-15 10:06:59</td>\n",
       "      <td>36.95</td>\n",
       "      <td>-75.87</td>\n",
       "      <td>Bph</td>\n",
       "      <td>180527</td>\n",
       "      <td>2</td>\n",
       "      <td>2007-02-28 10:52:00</td>\n",
       "      <td>Balaenoptera physalus</td>\n",
       "      <td>Fin Whale</td>\n",
       "      <td>Mammalia</td>\n",
       "      <td>University of North Carolina at Wilmington</td>\n",
       "    </tr>\n",
       "  </tbody>\n",
       "</table>\n",
       "</div>"
      ],
      "text/plain": [
       "     datasetid rowid            last_mod  latitude  longitude sp_code  sp_tsn  \\\n",
       "ID                                                                              \n",
       "2059       400  1972 2007-06-15 10:06:59     35.27     -75.35     Ttr  180426   \n",
       "1836       400  1443 2007-06-15 10:06:59     35.53     -75.17     Ttr  180426   \n",
       "2013       400  1890 2007-06-15 10:06:59     35.20     -75.54     Ttr  180426   \n",
       "2          400  1006 2007-06-15 10:06:59     36.95     -75.87     Bph  180527   \n",
       "\n",
       "      sp_count            obs_date             scientific           sp_common  \\\n",
       "ID                                                                              \n",
       "2059         5 2007-04-24 11:28:00     Tursiops truncatus  Bottlenose Dolphin   \n",
       "1836         1 2007-03-22 14:13:00     Tursiops truncatus  Bottlenose Dolphin   \n",
       "2013         1 2007-04-23 09:32:00     Tursiops truncatus  Bottlenose Dolphin   \n",
       "2            2 2007-02-28 10:52:00  Balaenoptera physalus           Fin Whale   \n",
       "\n",
       "      sp_class                                    provider  \n",
       "ID                                                          \n",
       "2059  Mammalia  University of North Carolina at Wilmington  \n",
       "1836  Mammalia  University of North Carolina at Wilmington  \n",
       "2013  Mammalia  University of North Carolina at Wilmington  \n",
       "2     Mammalia  University of North Carolina at Wilmington  "
      ]
     },
     "execution_count": 14,
     "metadata": {},
     "output_type": "execute_result"
    }
   ],
   "source": [
    "#Step 2: Applying the mask to return only 'true' records\n",
    "dfMammals = dfSeamap[theMask]\n",
    "dfMammals.sample(4) #Show a random sample from the product"
   ]
  },
  {
   "cell_type": "code",
   "execution_count": 15,
   "metadata": {},
   "outputs": [
    {
     "data": {
      "text/plain": [
       "array(['Mammalia'], dtype=object)"
      ]
     },
     "execution_count": 15,
     "metadata": {},
     "output_type": "execute_result"
    }
   ],
   "source": [
    "#Proof that we only got mammals in the result\n",
    "dfMammals['sp_class'].unique()"
   ]
  },
  {
   "cell_type": "markdown",
   "metadata": {},
   "source": [
    "#### Selecting rows in one step:"
   ]
  },
  {
   "cell_type": "code",
   "execution_count": 18,
   "metadata": {},
   "outputs": [
    {
     "data": {
      "text/plain": [
       "(929, 13)"
      ]
     },
     "execution_count": 18,
     "metadata": {},
     "output_type": "execute_result"
    }
   ],
   "source": [
    "#Get all the mammals and report all unique scientific names\n",
    "dfMammals = dfSeamap[dfSeamap['sp_class'] == 'Mammalia']\n",
    "dfMammals.shape #Reveal the size of the result"
   ]
  },
  {
   "cell_type": "code",
   "execution_count": 19,
   "metadata": {},
   "outputs": [
    {
     "data": {
      "text/plain": [
       "array(['Balaenopteridae', 'Balaenoptera physalus', 'Delphinus delphis',\n",
       "       'Delphinidae', 'Eubalaena glacialis', 'Globicephala macrorhynchus',\n",
       "       'Megaptera novaeangliae', 'Tursiops truncatus'], dtype=object)"
      ]
     },
     "execution_count": 19,
     "metadata": {},
     "output_type": "execute_result"
    }
   ],
   "source": [
    "dfMammals['scientific'].unique()"
   ]
  },
  {
   "cell_type": "markdown",
   "metadata": {},
   "source": [
    "#### Selecting rows using `query`:\n",
    "We can also execute familiar **query strings** to extract records. *Personally, I don't like this method as the query strings tend to be finicky and can be tough to use with quotes..*"
   ]
  },
  {
   "cell_type": "code",
   "execution_count": 20,
   "metadata": {},
   "outputs": [
    {
     "data": {
      "text/plain": [
       "(929, 13)"
      ]
     },
     "execution_count": 20,
     "metadata": {},
     "output_type": "execute_result"
    }
   ],
   "source": [
    "dfMammals = dfSeamap.query(\"sp_class == 'Mammalia'\")\n",
    "dfMammals.shape"
   ]
  },
  {
   "cell_type": "markdown",
   "metadata": {},
   "source": [
    "#### Complex row selections\n",
    "We can combine masks using logical operators (`&` = \"and\", `|` = \"or\")."
   ]
  },
  {
   "cell_type": "code",
   "execution_count": 21,
   "metadata": {},
   "outputs": [
    {
     "data": {
      "text/plain": [
       "array(['Delphinus delphis', 'Delphinidae', 'Eubalaena glacialis',\n",
       "       'Tursiops truncatus'], dtype=object)"
      ]
     },
     "execution_count": 21,
     "metadata": {},
     "output_type": "execute_result"
    }
   ],
   "source": [
    "#Select mammal records in the 2nd half of 2006\n",
    "mammalMask = dfSeamap['sp_class'] == 'Mammalia'\n",
    "\n",
    "#Create date objects for the start and end dates\n",
    "startDate = np.datetime64('2006-07-01')\n",
    "endDate = np.datetime64('2007-01-01')\n",
    "\n",
    "#Create the date masks\n",
    "startMask = (dfSeamap['obs_date'] >= startDate) \n",
    "endMask = (dfSeamap['obs_date'] < endDate)\n",
    "\n",
    "#Apply the masks, using the bitwise '&' to return rows where all masks are true\n",
    "dfSelect2 = dfSeamap[mammalMask & startMask & endMask]\n",
    "dfSelect2['scientific'].unique()"
   ]
  },
  {
   "cell_type": "markdown",
   "metadata": {},
   "source": [
    "#### Return rows matching a substring\n",
    "The `.str` function on a column allows us to use some string operations  on the values in that field.  Here we use the string `startswith` function to return all rows where the row's value starts with 'Delphin'. See https://pandas.pydata.org/pandas-docs/stable/text.html for other string operations."
   ]
  },
  {
   "cell_type": "code",
   "execution_count": null,
   "metadata": {},
   "outputs": [],
   "source": [
    "#Select rows where the scientific name starts with \"Delphin\" \n",
    "dolphinMask = dfSeamap['scientific'].str.startswith('Delphin')\n",
    "dfDolphins = dfSeamap[dolphinMask]\n",
    "\n",
    "#Use the nunique function to just return the number \n",
    "#  of unique scientific names\n",
    "dfDolphins['scientific'].nunique()"
   ]
  },
  {
   "cell_type": "markdown",
   "metadata": {},
   "source": [
    "#### More complex queries with `apply` and  `lambda`\n",
    "For maximum flexibility, we can actually write our own functions to be applied to each value in a column (or multiple columns). This is done using the `apply` function to a dataFrame and then specifying the subcode we want to use with Python's `lambda` statement. (This seems fairly complex at first, but it actually somewhat straightforward -- and can be very useful...)"
   ]
  },
  {
   "cell_type": "code",
   "execution_count": null,
   "metadata": {},
   "outputs": [],
   "source": [
    "#Create a mask by searching each row for the string \"Whale\" and apply the mask\n",
    "# to list the scientific names of these records\n",
    "whaleMask = dfSeamap['sp_common'].apply(lambda x: 'Whale' in x)\n",
    "dfWhale = dfSeamap[whaleMask]\n",
    "dfWhale['scientific'].unique()"
   ]
  },
  {
   "cell_type": "markdown",
   "metadata": {},
   "source": [
    "## Grouping/Aggregating data\n",
    "Pandas can aggregate data on values like SQL as well. We do this with the `groupby` statement"
   ]
  },
  {
   "cell_type": "code",
   "execution_count": null,
   "metadata": {},
   "outputs": [],
   "source": [
    "#Count the observations by common name\n",
    "grpSpCommon = dfSeamap.groupby('sp_common')\n",
    "grpSpCommon['sp_common'].count()"
   ]
  },
  {
   "cell_type": "markdown",
   "metadata": {},
   "source": [
    "We can also show *all* the summary stats with the dataFrame's `describe` function."
   ]
  },
  {
   "cell_type": "code",
   "execution_count": null,
   "metadata": {},
   "outputs": [],
   "source": [
    "grpSpCommon.describe()"
   ]
  },
  {
   "cell_type": "markdown",
   "metadata": {},
   "source": [
    "## Reshaping tables\n",
    "In addition to grouping data, we can \"pivot\" the data, summarizing by one field and aggregating values across other fields. Let's look at an example where we display "
   ]
  },
  {
   "cell_type": "code",
   "execution_count": null,
   "metadata": {},
   "outputs": [],
   "source": [
    "#Extract just the dolphin records\n",
    "#dfDolphin = dfSeamap.query(\"sp_common == 'dolphins'\").copy(deep=True)\n",
    "dfDolphin = dfSeamap.copy(deep=True)"
   ]
  },
  {
   "cell_type": "code",
   "execution_count": null,
   "metadata": {},
   "outputs": [],
   "source": [
    "#Add a \"day\" column (https://pandas.pydata.org/pandas-docs/stable/api.html#datetimelike-properties)\n",
    "dfDolphin['day'] = dfDolphin['obs_date'].dt.weekofyear\n",
    "dfDolphin.head()"
   ]
  },
  {
   "cell_type": "code",
   "execution_count": null,
   "metadata": {},
   "outputs": [],
   "source": [
    "#Pivot to a table listing row=species, col = day of year, values = latitude\n",
    "dfLat = dfDolphin.pivot_table(index='sp_common',columns='day',values='latitude')\n",
    "dfLat.head()"
   ]
  },
  {
   "cell_type": "markdown",
   "metadata": {},
   "source": [
    "## Joining tables\n",
    "Also like SQL, pandas can join tables. Below we'll create two tables from our aggregated data: one will list the minimum of the latitude and longitude columns, and the second will list the maximum values. Then we'll join these two tables and compute the geographic extent of each species observations. "
   ]
  },
  {
   "cell_type": "code",
   "execution_count": null,
   "metadata": {},
   "outputs": [],
   "source": [
    "#Create dataFrames of the minimum and then maximum of the lat and lng fields\n",
    "minCoords = grpSpCommon['latitude','longitude'].min()\n",
    "maxCoord = grpSpCommon['latitude','longitude'].max()"
   ]
  },
  {
   "cell_type": "code",
   "execution_count": null,
   "metadata": {},
   "outputs": [],
   "source": [
    "# Have a look at what is returned (for the min table)\n",
    "minCoords.head()"
   ]
  },
  {
   "cell_type": "code",
   "execution_count": null,
   "metadata": {},
   "outputs": [],
   "source": [
    "#Use the Pandas 'merge' command to join the two tables\n",
    "sppExtent = pd.merge(left=minCoords,     #Specifies the left table\n",
    "                     right=maxCoord,     #Specifies the right table\n",
    "                     how = 'inner',      #Specifies the type of join\n",
    "                     left_index=True,    #Use the index of the left table as the join item\n",
    "                     right_index=True)   #Use the index of the right table as the join item\n",
    "#Have a look\n",
    "sppExtent.head()"
   ]
  },
  {
   "cell_type": "code",
   "execution_count": null,
   "metadata": {},
   "outputs": [],
   "source": [
    "#Rename the columns to the values in the list provided\n",
    "sppExtent.columns = ['minX','minY','maxX','maxY']\n",
    "sppExtent.head()"
   ]
  },
  {
   "cell_type": "code",
   "execution_count": null,
   "metadata": {},
   "outputs": [],
   "source": [
    "#Compute two new columns as the difference between max and min\n",
    "sppExtent['XRange'] = sppExtent.maxX - sppExtent.minX\n",
    "sppExtent['YRange'] = sppExtent.maxY - sppExtent.minY\n",
    "sppExtent.head()"
   ]
  },
  {
   "cell_type": "code",
   "execution_count": null,
   "metadata": {},
   "outputs": [],
   "source": []
  },
  {
   "cell_type": "code",
   "execution_count": null,
   "metadata": {},
   "outputs": [],
   "source": []
  }
 ],
 "metadata": {
  "kernelspec": {
   "display_name": "Python 3",
   "language": "python",
   "name": "python3"
  },
  "language_info": {
   "codemirror_mode": {
    "name": "ipython",
    "version": 3
   },
   "file_extension": ".py",
   "mimetype": "text/x-python",
   "name": "python",
   "nbconvert_exporter": "python",
   "pygments_lexer": "ipython3",
   "version": "3.6.6"
  }
 },
 "nbformat": 4,
 "nbformat_minor": 2
}
